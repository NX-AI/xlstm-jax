{
  "cells": [
    {
      "cell_type": "code",
      "execution_count": 1,
      "metadata": {},
      "outputs": [],
      "source": [
        "import sys\n",
        "\n",
        "sys.path.append(\"../../..\")"
      ]
    },
    {
      "cell_type": "code",
      "execution_count": 2,
      "metadata": {},
      "outputs": [
        {
          "name": "stderr",
          "output_type": "stream",
          "text": [
            "/nfs-gpu/xlstm/miniforge3/envs/python_3.11_jax_0.4.34_cuda_12.6_beck/lib/python3.11/site-packages/tqdm/auto.py:21: TqdmWarning: IProgress not found. Please update jupyter and ipywidgets. See https://ipywidgets.readthedocs.io/en/stable/user_install.html\n",
            "  from .autonotebook import tqdm as notebook_tqdm\n",
            "2024-11-25 17:21:06.183475: E external/local_xla/xla/stream_executor/cuda/cuda_fft.cc:485] Unable to register cuFFT factory: Attempting to register factory for plugin cuFFT when one has already been registered\n",
            "2024-11-25 17:21:06.200030: E external/local_xla/xla/stream_executor/cuda/cuda_dnn.cc:8454] Unable to register cuDNN factory: Attempting to register factory for plugin cuDNN when one has already been registered\n",
            "2024-11-25 17:21:06.204860: E external/local_xla/xla/stream_executor/cuda/cuda_blas.cc:1452] Unable to register cuBLAS factory: Attempting to register factory for plugin cuBLAS when one has already been registered\n",
            "2024-11-25 17:21:08.168395: W tensorflow/compiler/tf2tensorrt/utils/py_utils.cc:38] TF-TRT Warning: Could not find TensorRT\n"
          ]
        }
      ],
      "source": [
        "from dataclasses import asdict\n",
        "from typing import Any\n",
        "\n",
        "import flax\n",
        "import jax\n",
        "import numpy as np\n",
        "from flax import linen as nn\n",
        "from jax.experimental.shard_map import shard_map\n",
        "from jax.sharding import PartitionSpec as P\n",
        "\n",
        "from xlstm_jax.distributed.mesh_utils import initialize_mesh\n",
        "from xlstm_jax.models.configs import ParallelConfig\n",
        "from xlstm_jax.models.xlstm_parallel.blocks.mlstm.backend import mLSTMBackendNameAndKwargs\n",
        "from xlstm_jax.models.xlstm_parallel.blocks.mlstm.block import mLSTMBlockConfig\n",
        "from xlstm_jax.models.xlstm_parallel.blocks.mlstm.cell import mLSTMCellConfig\n",
        "from xlstm_jax.models.xlstm_parallel.blocks.mlstm.layer import mLSTMLayerConfig\n",
        "from xlstm_jax.models.xlstm_parallel.components.feedforward import FeedForwardConfig\n",
        "from xlstm_jax.models.xlstm_parallel.xlstm_lm_model import xLSTMLMModel, xLSTMLMModelConfig\n",
        "from xlstm_jax.utils.model_param_handling.convert_checkpoint import convert_orbax_checkpoint_to_torch_state_dict\n",
        "from xlstm_jax.utils.model_param_handling.handle_mlstm_simple import (\n",
        "    pipeline_convert_mlstm_checkpoint_jax_to_torch_simple,\n",
        ")\n",
        "from xlstm_jax.utils.model_param_handling.load import load_model_params_and_config_from_checkpoint\n",
        "from xlstm_jax.utils.pytree_utils import flatten_dict"
      ]
    },
    {
      "cell_type": "code",
      "execution_count": 3,
      "metadata": {},
      "outputs": [],
      "source": [
        "JAX_CHECKPOINT_PATH = \"/nfs-gpu/xlstm/logs/outputs/xlstm-jax/DCLM/dclm_mLSTMv1_1.3B_ctx8192_2024-11-19T09:24:50/0/checkpoints/checkpoint_95000\""
      ]
    },
    {
      "cell_type": "code",
      "execution_count": 4,
      "metadata": {},
      "outputs": [
        {
          "name": "stderr",
          "output_type": "stream",
          "text": [
            "2024-11-25 17:21:16.621767: W external/xla/xla/service/gpu/nvptx_compiler.cc:930] The NVIDIA driver's CUDA version is 12.4 which is older than the PTX compiler version 12.6.77. Because the driver is older than the PTX compiler version, XLA is disabling parallel compilation, which may slow down compilation. You should update your NVIDIA driver or use the NVIDIA-provided CUDA forward compatibility packages.\n",
            "WARNING:xlstm_jax.trainer.callbacks.checkpointing:Process count mismatch. Expected 32 but got 1.\n"
          ]
        }
      ],
      "source": [
        "jax_checkpoint, jax_config = load_model_params_and_config_from_checkpoint(\n",
        "    JAX_CHECKPOINT_PATH, return_config_as_dataclass=True\n",
        ")"
      ]
    },
    {
      "cell_type": "code",
      "execution_count": 5,
      "metadata": {},
      "outputs": [
        {
          "name": "stdout",
          "output_type": "stream",
          "text": [
            "{'_block_map': '0,0,0,0,0,0,0,0,0,0,0,0,0,0,0,0,0,0,0,0,0,0,0,0',\n",
            " 'add_embedding_dropout': False,\n",
            " 'add_post_blocks_norm': True,\n",
            " 'bias': False,\n",
            " 'context_length': 128,\n",
            " 'dropout': 0.0,\n",
            " 'dtype': 'bfloat16',\n",
            " 'embedding_dim': 2048,\n",
            " 'init_distribution_embed': 'normal',\n",
            " 'init_distribution_out': 'normal',\n",
            " 'lm_head_dtype': 'bfloat16',\n",
            " 'logits_soft_cap': 30.0,\n",
            " 'mlstm_block._block_idx': None,\n",
            " 'mlstm_block._num_blocks': 24,\n",
            " 'mlstm_block.add_post_norm': False,\n",
            " 'mlstm_block.feedforward._num_blocks': 24,\n",
            " 'mlstm_block.feedforward._proj_up_dim': 5504,\n",
            " 'mlstm_block.feedforward.act_fn': 'swish',\n",
            " 'mlstm_block.feedforward.bias': False,\n",
            " 'mlstm_block.feedforward.dropout': 0.0,\n",
            " 'mlstm_block.feedforward.dtype': 'bfloat16',\n",
            " 'mlstm_block.feedforward.embedding_dim': 2048,\n",
            " 'mlstm_block.feedforward.ff_type': 'ffn_gated',\n",
            " 'mlstm_block.feedforward.init_distribution': 'normal',\n",
            " 'mlstm_block.feedforward.output_init_fn': 'wang',\n",
            " 'mlstm_block.feedforward.parallel.data_axis_name': 'dp',\n",
            " 'mlstm_block.feedforward.parallel.data_axis_size': 1,\n",
            " 'mlstm_block.feedforward.parallel.fsdp_axis_name': 'fsdp',\n",
            " 'mlstm_block.feedforward.parallel.fsdp_axis_size': 1,\n",
            " 'mlstm_block.feedforward.parallel.fsdp_gather_dtype': 'bfloat16',\n",
            " 'mlstm_block.feedforward.parallel.fsdp_grad_scatter_dtype': None,\n",
            " 'mlstm_block.feedforward.parallel.fsdp_min_weight_size': 262144,\n",
            " 'mlstm_block.feedforward.parallel.fsdp_modules': [],\n",
            " 'mlstm_block.feedforward.parallel.model_axis_name': 'tp',\n",
            " 'mlstm_block.feedforward.parallel.model_axis_size': 1,\n",
            " 'mlstm_block.feedforward.parallel.pipeline_axis_name': 'pp',\n",
            " 'mlstm_block.feedforward.parallel.pipeline_axis_size': 1,\n",
            " 'mlstm_block.feedforward.parallel.remat': ['xLSTMResBlock', 'FFNResBlock'],\n",
            " 'mlstm_block.feedforward.parallel.tp_async_dense': False,\n",
            " 'mlstm_block.feedforward.proj_factor': 2.667,\n",
            " 'mlstm_block.feedforward.round_proj_up_dim_up': True,\n",
            " 'mlstm_block.feedforward.round_proj_up_to_multiple_of': 64,\n",
            " 'mlstm_block.mlstm._inner_embedding_dim': 4096,\n",
            " 'mlstm_block.mlstm._num_blocks': 24,\n",
            " 'mlstm_block.mlstm._proj_up_dim': 4096,\n",
            " 'mlstm_block.mlstm.bias': False,\n",
            " 'mlstm_block.mlstm.context_length': 128,\n",
            " 'mlstm_block.mlstm.conv1d_kernel_size': 4,\n",
            " 'mlstm_block.mlstm.debug_cell': False,\n",
            " 'mlstm_block.mlstm.dropout': 0.0,\n",
            " 'mlstm_block.mlstm.dtype': 'bfloat16',\n",
            " 'mlstm_block.mlstm.embedding_dim': 2048,\n",
            " 'mlstm_block.mlstm.gate_input': 'qkv',\n",
            " 'mlstm_block.mlstm.init_distribution': 'normal',\n",
            " 'mlstm_block.mlstm.layer_type': 'mlstm_v1',\n",
            " 'mlstm_block.mlstm.mlstm_cell.add_qk_norm': False,\n",
            " 'mlstm_block.mlstm.mlstm_cell.backend.kwargs.autocast_dtype': None,\n",
            " 'mlstm_block.mlstm.mlstm_cell.backend.kwargs.backend_name': 'max_triton_xlchunksize',\n",
            " 'mlstm_block.mlstm.mlstm_cell.backend.kwargs.chunk_size': 64,\n",
            " 'mlstm_block.mlstm.mlstm_cell.backend.kwargs.eps': 1e-06,\n",
            " 'mlstm_block.mlstm.mlstm_cell.backend.kwargs.norm_val': 1.0,\n",
            " 'mlstm_block.mlstm.mlstm_cell.backend.kwargs.reduce_slicing': True,\n",
            " 'mlstm_block.mlstm.mlstm_cell.backend.kwargs.stabilize_correctly': True,\n",
            " 'mlstm_block.mlstm.mlstm_cell.backend.name': 'triton_kernels',\n",
            " 'mlstm_block.mlstm.mlstm_cell.context_length': 128,\n",
            " 'mlstm_block.mlstm.mlstm_cell.dtype': 'bfloat16',\n",
            " 'mlstm_block.mlstm.mlstm_cell.embedding_dim': 4096,\n",
            " 'mlstm_block.mlstm.mlstm_cell.fgate_bias_init_range': (3.0, 6.0),\n",
            " 'mlstm_block.mlstm.mlstm_cell.gate_dtype': 'float32',\n",
            " 'mlstm_block.mlstm.mlstm_cell.gate_linear_headwise': False,\n",
            " 'mlstm_block.mlstm.mlstm_cell.gate_soft_cap': 15.0,\n",
            " 'mlstm_block.mlstm.mlstm_cell.igate_bias_init_range': -10.0,\n",
            " 'mlstm_block.mlstm.mlstm_cell.norm_eps': 1e-06,\n",
            " 'mlstm_block.mlstm.mlstm_cell.norm_type': 'rmsnorm',\n",
            " 'mlstm_block.mlstm.mlstm_cell.num_heads': 4,\n",
            " 'mlstm_block.mlstm.mlstm_cell.parallel.data_axis_name': 'dp',\n",
            " 'mlstm_block.mlstm.mlstm_cell.parallel.data_axis_size': -1,\n",
            " 'mlstm_block.mlstm.mlstm_cell.parallel.fsdp_axis_name': 'fsdp',\n",
            " 'mlstm_block.mlstm.mlstm_cell.parallel.fsdp_axis_size': 1,\n",
            " 'mlstm_block.mlstm.mlstm_cell.parallel.fsdp_gather_dtype': 'bfloat16',\n",
            " 'mlstm_block.mlstm.mlstm_cell.parallel.fsdp_grad_scatter_dtype': None,\n",
            " 'mlstm_block.mlstm.mlstm_cell.parallel.fsdp_min_weight_size': 262144,\n",
            " 'mlstm_block.mlstm.mlstm_cell.parallel.fsdp_modules': [],\n",
            " 'mlstm_block.mlstm.mlstm_cell.parallel.model_axis_name': 'tp',\n",
            " 'mlstm_block.mlstm.mlstm_cell.parallel.model_axis_size': 1,\n",
            " 'mlstm_block.mlstm.mlstm_cell.parallel.pipeline_axis_name': 'pp',\n",
            " 'mlstm_block.mlstm.mlstm_cell.parallel.pipeline_axis_size': 1,\n",
            " 'mlstm_block.mlstm.mlstm_cell.parallel.remat': ['xLSTMResBlock',\n",
            "                                                 'FFNResBlock'],\n",
            " 'mlstm_block.mlstm.mlstm_cell.parallel.tp_async_dense': False,\n",
            " 'mlstm_block.mlstm.mlstm_cell.reset_at_document_boundaries': True,\n",
            " 'mlstm_block.mlstm.mlstm_cell.reset_fgate_value': -25.0,\n",
            " 'mlstm_block.mlstm.norm_type': 'rmsnorm',\n",
            " 'mlstm_block.mlstm.num_heads': 4,\n",
            " 'mlstm_block.mlstm.output_init_fn': 'wang',\n",
            " 'mlstm_block.mlstm.parallel.data_axis_name': 'dp',\n",
            " 'mlstm_block.mlstm.parallel.data_axis_size': 1,\n",
            " 'mlstm_block.mlstm.parallel.fsdp_axis_name': 'fsdp',\n",
            " 'mlstm_block.mlstm.parallel.fsdp_axis_size': 1,\n",
            " 'mlstm_block.mlstm.parallel.fsdp_gather_dtype': 'bfloat16',\n",
            " 'mlstm_block.mlstm.parallel.fsdp_grad_scatter_dtype': None,\n",
            " 'mlstm_block.mlstm.parallel.fsdp_min_weight_size': 262144,\n",
            " 'mlstm_block.mlstm.parallel.fsdp_modules': [],\n",
            " 'mlstm_block.mlstm.parallel.model_axis_name': 'tp',\n",
            " 'mlstm_block.mlstm.parallel.model_axis_size': 1,\n",
            " 'mlstm_block.mlstm.parallel.pipeline_axis_name': 'pp',\n",
            " 'mlstm_block.mlstm.parallel.pipeline_axis_size': 1,\n",
            " 'mlstm_block.mlstm.parallel.remat': ['xLSTMResBlock', 'FFNResBlock'],\n",
            " 'mlstm_block.mlstm.parallel.tp_async_dense': False,\n",
            " 'mlstm_block.mlstm.proj_factor': 2.0,\n",
            " 'mlstm_block.mlstm.qk_dim_factor': 0.5,\n",
            " 'mlstm_block.mlstm.qkv_proj_blocksize': 4,\n",
            " 'mlstm_block.mlstm.round_proj_up_dim_up': True,\n",
            " 'mlstm_block.mlstm.round_proj_up_to_multiple_of': 64,\n",
            " 'mlstm_block.mlstm.v_dim_factor': 1.0,\n",
            " 'mlstm_block.mlstm.vmap_qk': False,\n",
            " 'mlstm_block.parallel.data_axis_name': 'dp',\n",
            " 'mlstm_block.parallel.data_axis_size': 1,\n",
            " 'mlstm_block.parallel.fsdp_axis_name': 'fsdp',\n",
            " 'mlstm_block.parallel.fsdp_axis_size': 1,\n",
            " 'mlstm_block.parallel.fsdp_gather_dtype': 'bfloat16',\n",
            " 'mlstm_block.parallel.fsdp_grad_scatter_dtype': None,\n",
            " 'mlstm_block.parallel.fsdp_min_weight_size': 262144,\n",
            " 'mlstm_block.parallel.fsdp_modules': [],\n",
            " 'mlstm_block.parallel.model_axis_name': 'tp',\n",
            " 'mlstm_block.parallel.model_axis_size': 1,\n",
            " 'mlstm_block.parallel.pipeline_axis_name': 'pp',\n",
            " 'mlstm_block.parallel.pipeline_axis_size': 1,\n",
            " 'mlstm_block.parallel.remat': ['xLSTMResBlock', 'FFNResBlock'],\n",
            " 'mlstm_block.parallel.tp_async_dense': False,\n",
            " 'norm_eps': 1e-06,\n",
            " 'norm_type': 'rmsnorm',\n",
            " 'num_blocks': 24,\n",
            " 'parallel.data_axis_name': 'dp',\n",
            " 'parallel.data_axis_size': 1,\n",
            " 'parallel.fsdp_axis_name': 'fsdp',\n",
            " 'parallel.fsdp_axis_size': 1,\n",
            " 'parallel.fsdp_gather_dtype': 'bfloat16',\n",
            " 'parallel.fsdp_grad_scatter_dtype': None,\n",
            " 'parallel.fsdp_min_weight_size': 262144,\n",
            " 'parallel.fsdp_modules': [],\n",
            " 'parallel.model_axis_name': 'tp',\n",
            " 'parallel.model_axis_size': 1,\n",
            " 'parallel.pipeline_axis_name': 'pp',\n",
            " 'parallel.pipeline_axis_size': 1,\n",
            " 'parallel.remat': ['xLSTMResBlock', 'FFNResBlock'],\n",
            " 'parallel.tp_async_dense': False,\n",
            " 'scan_blocks': True,\n",
            " 'slstm_at': [],\n",
            " 'slstm_block': None,\n",
            " 'tie_weights': False,\n",
            " 'vocab_size': 50304,\n",
            " 'weight_decay_on_embedding': False}\n"
          ]
        }
      ],
      "source": [
        "from pprint import pprint\n",
        "\n",
        "pprint(flatten_dict(asdict(jax_config)))"
      ]
    },
    {
      "cell_type": "code",
      "execution_count": 6,
      "metadata": {},
      "outputs": [],
      "source": [
        "parallel = ParallelConfig(\n",
        "    data_axis_name=\"dp\",\n",
        "    fsdp_axis_name=\"fsdp\",\n",
        "    model_axis_name=\"tp\",\n",
        "    pipeline_axis_name=\"pp\",\n",
        "    fsdp_modules=[],\n",
        "    fsdp_gather_dtype=\"bfloat16\",\n",
        "    fsdp_min_weight_size=2**18,\n",
        "    remat=[],\n",
        "    fsdp_axis_size=1,\n",
        "    model_axis_size=1,\n",
        "    data_axis_size=1,\n",
        "    tp_async_dense=False,\n",
        ")"
      ]
    },
    {
      "cell_type": "code",
      "execution_count": 7,
      "metadata": {},
      "outputs": [],
      "source": [
        "mesh = initialize_mesh(parallel_config=parallel, device_array=np.array(jax.devices())[0:1])"
      ]
    },
    {
      "cell_type": "code",
      "execution_count": 8,
      "metadata": {},
      "outputs": [],
      "source": [
        "xlstm_model_jax = xLSTMLMModel(jax_config)"
      ]
    },
    {
      "cell_type": "code",
      "execution_count": 9,
      "metadata": {},
      "outputs": [
        {
          "data": {
            "text/plain": [
              "(50304, 3, 128)"
            ]
          },
          "execution_count": 9,
          "metadata": {},
          "output_type": "execute_result"
        }
      ],
      "source": [
        "VOCAB_SIZE = jax_config.vocab_size\n",
        "BATCH_SIZE = 3\n",
        "CONTEXT_LENGTH = jax_config.context_length\n",
        "VOCAB_SIZE, BATCH_SIZE, CONTEXT_LENGTH"
      ]
    },
    {
      "cell_type": "code",
      "execution_count": 10,
      "metadata": {},
      "outputs": [],
      "source": [
        "exmp_input = jax.random.randint(jax.random.PRNGKey(0), (BATCH_SIZE, CONTEXT_LENGTH), minval=0, maxval=VOCAB_SIZE)"
      ]
    },
    {
      "cell_type": "code",
      "execution_count": 11,
      "metadata": {},
      "outputs": [],
      "source": [
        "def _init_model(rng: jax.Array, batch_input: jax.Array) -> Any:\n",
        "    param_rng, dropout_rng = jax.random.split(rng)\n",
        "    # Initialize parameters.\n",
        "    variables = xlstm_model_jax.init({\"params\": param_rng, \"dropout\": dropout_rng}, batch_input)\n",
        "    return variables\n",
        "\n",
        "\n",
        "# Prepare PRNG.\n",
        "init_rng = jax.random.PRNGKey(42)\n",
        "# First infer the output sharding to set up shard_map correctly.\n",
        "# This does not actually run the init, only evaluates the shapes.\n",
        "init_model_fn = jax.jit(\n",
        "    shard_map(\n",
        "        _init_model,\n",
        "        mesh,\n",
        "        in_specs=(P(), P()),\n",
        "        out_specs=P(),\n",
        "        check_rep=False,\n",
        "    ),\n",
        ")\n",
        "variables_shapes = jax.eval_shape(init_model_fn, init_rng, exmp_input)\n",
        "variables_partition_specs = nn.get_partition_spec(variables_shapes)\n",
        "# Run init model function again with correct output specs.\n",
        "init_model_fn = jax.jit(\n",
        "    shard_map(\n",
        "        _init_model,\n",
        "        mesh,\n",
        "        in_specs=(P(), P()),\n",
        "        out_specs=variables_partition_specs,\n",
        "        check_rep=False,\n",
        "    ),\n",
        ")\n",
        "\n",
        "variables = init_model_fn(init_rng, exmp_input)"
      ]
    },
    {
      "cell_type": "code",
      "execution_count": 12,
      "metadata": {},
      "outputs": [],
      "source": [
        "variables = {}\n",
        "variables[\"params\"] = flax.core.frozen_dict.unfreeze(jax_checkpoint)\n",
        "\n",
        "\n",
        "def _forward(\n",
        "    batch_input: jax.Array, variables: Any, batch_position: jax.Array | None, batch_borders: jax.Array | None\n",
        ") -> jax.Array:\n",
        "    return xlstm_model_jax.apply(\n",
        "        variables,\n",
        "        batch_input,\n",
        "        pos_idx=batch_position,\n",
        "        document_borders=batch_borders,\n",
        "        train=True,\n",
        "        rngs={\"dropout\": jax.random.PRNGKey(42)},\n",
        "    )\n",
        "\n",
        "\n",
        "forward_fn = jax.jit(\n",
        "    shard_map(\n",
        "        _forward,\n",
        "        mesh,\n",
        "        in_specs=(P(), variables_partition_specs, P(), P()),\n",
        "        out_specs=P(),\n",
        "        check_rep=False,\n",
        "    ),\n",
        ")\n",
        "\n",
        "logits_jax = forward_fn(exmp_input, variables, None, None)"
      ]
    },
    {
      "cell_type": "code",
      "execution_count": 13,
      "metadata": {},
      "outputs": [],
      "source": [
        "logits_jax_np = jax.device_get(logits_jax)\n",
        "example_inputs_np = jax.device_get(exmp_input)"
      ]
    },
    {
      "cell_type": "code",
      "execution_count": 14,
      "metadata": {},
      "outputs": [],
      "source": [
        "np.savez(\"./logits_inputs_jax.npz\", logits_jax=logits_jax_np, inputs=example_inputs_np)"
      ]
    },
    {
      "cell_type": "code",
      "execution_count": 15,
      "metadata": {},
      "outputs": [],
      "source": [
        "file = np.load(\"./logits_inputs_jax.npz\")"
      ]
    },
    {
      "cell_type": "code",
      "execution_count": 16,
      "metadata": {},
      "outputs": [
        {
          "data": {
            "text/plain": [
              "array([[[ 13.566897  ,   0.43551627,  13.216589  , ...,   0.44723246,\n",
              "           0.4433271 ,   0.4394217 ],\n",
              "        [  3.5920599 ,  -8.567479  ,   1.4364008 , ...,  -8.567479  ,\n",
              "          -8.567479  ,  -8.567479  ],\n",
              "        [ 15.932797  ,   2.1525445 ,  12.086428  , ...,   2.1525445 ,\n",
              "           2.1525445 ,   2.1525445 ],\n",
              "        ...,\n",
              "        [  6.519365  ,  -4.619217  ,   4.527646  , ...,  -4.619217  ,\n",
              "          -4.619217  ,  -4.619217  ],\n",
              "        [  1.4286062 ,  -3.4996197 ,   3.2064557 , ...,  -3.4996197 ,\n",
              "          -3.4996197 ,  -3.484206  ],\n",
              "        [  1.4519895 ,   1.327258  ,   0.9684135 , ...,   1.3350551 ,\n",
              "           1.3350551 ,   1.3350551 ]],\n",
              "\n",
              "       [[ 10.641614  ,   5.045358  ,   5.8010306 , ...,   5.045358  ,\n",
              "           5.0149865 ,   5.0149865 ],\n",
              "        [ 14.205258  ,  -1.1556777 ,  11.34495   , ...,  -1.1634786 ,\n",
              "          -1.1556777 ,  -1.1556777 ],\n",
              "        [ 13.61657   ,  -0.9176824 ,  10.967963  , ...,  -0.9215849 ,\n",
              "          -0.9176824 ,  -0.9176824 ],\n",
              "        ...,\n",
              "        [  9.081293  ,  -5.831106  ,   4.0071597 , ...,  -5.831106  ,\n",
              "          -5.8010306 ,  -5.831106  ],\n",
              "        [  4.2217946 , -11.022069  ,  -2.3389935 , ..., -11.022069  ,\n",
              "         -11.022069  , -11.022069  ],\n",
              "        [  4.435989  ,  -7.9901013 ,   0.98011976, ...,  -7.9901013 ,\n",
              "          -7.9901013 ,  -7.9901013 ]],\n",
              "\n",
              "       [[  2.5407736 ,  -3.638254  ,   1.1010677 , ...,  -3.638254  ,\n",
              "          -3.638254  ,  -3.638254  ],\n",
              "        [ 16.288586  ,   0.5780534 ,  13.765019  , ...,   0.5897678 ,\n",
              "           0.5897678 ,   0.5897678 ],\n",
              "        [ 11.022069  ,  -5.590167  ,  10.859508  , ...,  -5.590167  ,\n",
              "          -5.590167  ,  -5.590167  ],\n",
              "        ...,\n",
              "        [  9.75731   ,   0.37302762,   5.9512863 , ...,   0.35935777,\n",
              "           0.3632635 ,   0.38083896],\n",
              "        [  7.0825796 ,  -5.559996  ,   4.0378485 , ...,  -5.590167  ,\n",
              "          -5.559996  ,  -5.559996  ],\n",
              "        [  9.024484  ,  -3.8689587 ,   5.0757194 , ...,  -3.884323  ,\n",
              "          -3.884323  ,  -3.8689587 ]]], dtype=float32)"
            ]
          },
          "execution_count": 16,
          "metadata": {},
          "output_type": "execute_result"
        }
      ],
      "source": [
        "file[\"logits_jax\"]"
      ]
    },
    {
      "cell_type": "code",
      "execution_count": null,
      "metadata": {},
      "outputs": [],
      "source": []
    }
  ],
  "metadata": {
    "kernelspec": {
      "display_name": "python_3.11_jax_0.4.34_cuda_12.6_beck",
      "language": "python",
      "name": "python3"
    },
    "language_info": {
      "codemirror_mode": {
        "name": "ipython",
        "version": 3
      },
      "file_extension": ".py",
      "mimetype": "text/x-python",
      "name": "python",
      "nbconvert_exporter": "python",
      "pygments_lexer": "ipython3",
      "version": "3.11.10"
    }
  },
  "nbformat": 4,
  "nbformat_minor": 2
}
